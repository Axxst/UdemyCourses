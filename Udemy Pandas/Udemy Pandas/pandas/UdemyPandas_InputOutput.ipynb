{
 "cells": [
  {
   "cell_type": "code",
   "execution_count": 1,
   "id": "b1bda76e-34f8-4062-b3c3-c9f8e160c0f1",
   "metadata": {},
   "outputs": [],
   "source": [
    "import pandas as pd"
   ]
  },
  {
   "cell_type": "code",
   "execution_count": 2,
   "id": "4a9c0d91-85e6-429d-aa69-36ee8885dfeb",
   "metadata": {},
   "outputs": [
    {
     "data": {
      "text/html": [
       "<div>\n",
       "<style scoped>\n",
       "    .dataframe tbody tr th:only-of-type {\n",
       "        vertical-align: middle;\n",
       "    }\n",
       "\n",
       "    .dataframe tbody tr th {\n",
       "        vertical-align: top;\n",
       "    }\n",
       "\n",
       "    .dataframe thead th {\n",
       "        text-align: right;\n",
       "    }\n",
       "</style>\n",
       "<table border=\"1\" class=\"dataframe\">\n",
       "  <thead>\n",
       "    <tr style=\"text-align: right;\">\n",
       "      <th></th>\n",
       "      <th>Year of Birth</th>\n",
       "      <th>Gender</th>\n",
       "      <th>Ethnicity</th>\n",
       "      <th>Child's First Name</th>\n",
       "      <th>Count</th>\n",
       "      <th>Rank</th>\n",
       "    </tr>\n",
       "  </thead>\n",
       "  <tbody>\n",
       "    <tr>\n",
       "      <th>0</th>\n",
       "      <td>2019</td>\n",
       "      <td>FEMALE</td>\n",
       "      <td>ASIAN AND PACIFIC ISLANDER</td>\n",
       "      <td>Chloe</td>\n",
       "      <td>131</td>\n",
       "      <td>1</td>\n",
       "    </tr>\n",
       "    <tr>\n",
       "      <th>1</th>\n",
       "      <td>2019</td>\n",
       "      <td>FEMALE</td>\n",
       "      <td>ASIAN AND PACIFIC ISLANDER</td>\n",
       "      <td>Olivia</td>\n",
       "      <td>109</td>\n",
       "      <td>2</td>\n",
       "    </tr>\n",
       "    <tr>\n",
       "      <th>2</th>\n",
       "      <td>2019</td>\n",
       "      <td>FEMALE</td>\n",
       "      <td>ASIAN AND PACIFIC ISLANDER</td>\n",
       "      <td>Mia</td>\n",
       "      <td>88</td>\n",
       "      <td>3</td>\n",
       "    </tr>\n",
       "    <tr>\n",
       "      <th>3</th>\n",
       "      <td>2019</td>\n",
       "      <td>FEMALE</td>\n",
       "      <td>ASIAN AND PACIFIC ISLANDER</td>\n",
       "      <td>Sophia</td>\n",
       "      <td>71</td>\n",
       "      <td>4</td>\n",
       "    </tr>\n",
       "    <tr>\n",
       "      <th>4</th>\n",
       "      <td>2019</td>\n",
       "      <td>FEMALE</td>\n",
       "      <td>ASIAN AND PACIFIC ISLANDER</td>\n",
       "      <td>Emma</td>\n",
       "      <td>71</td>\n",
       "      <td>4</td>\n",
       "    </tr>\n",
       "  </tbody>\n",
       "</table>\n",
       "</div>"
      ],
      "text/plain": [
       "   Year of Birth  Gender                   Ethnicity Child's First Name  \\\n",
       "0           2019  FEMALE  ASIAN AND PACIFIC ISLANDER              Chloe   \n",
       "1           2019  FEMALE  ASIAN AND PACIFIC ISLANDER             Olivia   \n",
       "2           2019  FEMALE  ASIAN AND PACIFIC ISLANDER                Mia   \n",
       "3           2019  FEMALE  ASIAN AND PACIFIC ISLANDER             Sophia   \n",
       "4           2019  FEMALE  ASIAN AND PACIFIC ISLANDER               Emma   \n",
       "\n",
       "   Count  Rank  \n",
       "0    131     1  \n",
       "1    109     2  \n",
       "2     88     3  \n",
       "3     71     4  \n",
       "4     71     4  "
      ]
     },
     "execution_count": 2,
     "metadata": {},
     "output_type": "execute_result"
    }
   ],
   "source": [
    "baby = pd.read_csv('baby_names.csv')\n",
    "baby.head()"
   ]
  },
  {
   "cell_type": "code",
   "execution_count": 4,
   "id": "965f6f53-0faf-4932-bdff-a6967f684d19",
   "metadata": {},
   "outputs": [],
   "source": [
    "baby = baby.rename(columns=lambda x: x.replace(' ', '_'))\n"
   ]
  },
  {
   "cell_type": "code",
   "execution_count": 5,
   "id": "6f92151f-feb0-4fe6-b258-fdbb6503dd72",
   "metadata": {},
   "outputs": [
    {
     "data": {
      "text/html": [
       "<div>\n",
       "<style scoped>\n",
       "    .dataframe tbody tr th:only-of-type {\n",
       "        vertical-align: middle;\n",
       "    }\n",
       "\n",
       "    .dataframe tbody tr th {\n",
       "        vertical-align: top;\n",
       "    }\n",
       "\n",
       "    .dataframe thead th {\n",
       "        text-align: right;\n",
       "    }\n",
       "</style>\n",
       "<table border=\"1\" class=\"dataframe\">\n",
       "  <thead>\n",
       "    <tr style=\"text-align: right;\">\n",
       "      <th></th>\n",
       "      <th>Year_of_Birth</th>\n",
       "      <th>Gender</th>\n",
       "      <th>Ethnicity</th>\n",
       "      <th>Child's_First_Name</th>\n",
       "      <th>Count</th>\n",
       "      <th>Rank</th>\n",
       "    </tr>\n",
       "  </thead>\n",
       "  <tbody>\n",
       "    <tr>\n",
       "      <th>0</th>\n",
       "      <td>2019</td>\n",
       "      <td>FEMALE</td>\n",
       "      <td>ASIAN AND PACIFIC ISLANDER</td>\n",
       "      <td>Chloe</td>\n",
       "      <td>131</td>\n",
       "      <td>1</td>\n",
       "    </tr>\n",
       "    <tr>\n",
       "      <th>1</th>\n",
       "      <td>2019</td>\n",
       "      <td>FEMALE</td>\n",
       "      <td>ASIAN AND PACIFIC ISLANDER</td>\n",
       "      <td>Olivia</td>\n",
       "      <td>109</td>\n",
       "      <td>2</td>\n",
       "    </tr>\n",
       "    <tr>\n",
       "      <th>2</th>\n",
       "      <td>2019</td>\n",
       "      <td>FEMALE</td>\n",
       "      <td>ASIAN AND PACIFIC ISLANDER</td>\n",
       "      <td>Mia</td>\n",
       "      <td>88</td>\n",
       "      <td>3</td>\n",
       "    </tr>\n",
       "    <tr>\n",
       "      <th>3</th>\n",
       "      <td>2019</td>\n",
       "      <td>FEMALE</td>\n",
       "      <td>ASIAN AND PACIFIC ISLANDER</td>\n",
       "      <td>Sophia</td>\n",
       "      <td>71</td>\n",
       "      <td>4</td>\n",
       "    </tr>\n",
       "    <tr>\n",
       "      <th>4</th>\n",
       "      <td>2019</td>\n",
       "      <td>FEMALE</td>\n",
       "      <td>ASIAN AND PACIFIC ISLANDER</td>\n",
       "      <td>Emma</td>\n",
       "      <td>71</td>\n",
       "      <td>4</td>\n",
       "    </tr>\n",
       "  </tbody>\n",
       "</table>\n",
       "</div>"
      ],
      "text/plain": [
       "   Year_of_Birth  Gender                   Ethnicity Child's_First_Name  \\\n",
       "0           2019  FEMALE  ASIAN AND PACIFIC ISLANDER              Chloe   \n",
       "1           2019  FEMALE  ASIAN AND PACIFIC ISLANDER             Olivia   \n",
       "2           2019  FEMALE  ASIAN AND PACIFIC ISLANDER                Mia   \n",
       "3           2019  FEMALE  ASIAN AND PACIFIC ISLANDER             Sophia   \n",
       "4           2019  FEMALE  ASIAN AND PACIFIC ISLANDER               Emma   \n",
       "\n",
       "   Count  Rank  \n",
       "0    131     1  \n",
       "1    109     2  \n",
       "2     88     3  \n",
       "3     71     4  \n",
       "4     71     4  "
      ]
     },
     "execution_count": 5,
     "metadata": {},
     "output_type": "execute_result"
    }
   ],
   "source": [
    "baby.head()"
   ]
  },
  {
   "cell_type": "code",
   "execution_count": 6,
   "id": "dcad9f82-bda4-4d53-abbf-636c41ff1f2c",
   "metadata": {
    "collapsed": true,
    "jupyter": {
     "outputs_hidden": true
    },
    "tags": []
   },
   "outputs": [
    {
     "data": {
      "text/plain": [
       "\"Aahil, Aaliyah, Aarav, Aaron, Aarya, Aaryan, Aayan, Aayat, Abby, Abdiel, Abdoul, Abdoulaye, Abdul, Abdullah, Abdulloh, Abe, Abel, Abigail, Aboubacar, Abraham, Abrar, Abrielle, Abril, Abubakr, Ace, Ada, Adalynn, Adam, Adan, Addison, Adelaide, Adele, Adelina, Adeline, Adelyn, Adelynn, Aden, Adiel, Adina, Aditya, Adonis, Adrian, Adriana, Adrianna, Adriel, Adyan, Ahad, Aharon, Ahmad, Ahmed, Ahnaf, Ahron, Ahuva, Aicha, Aidan, Aiden, Ailani, Aileen, Aimee, Aisha, Aissata, Aissatou, Aitana, Aiza, Aizah, Akiva, Alahia, Alaia, Alaina, Alan, Alana, Alani, Alanis, Alanna, Alayna, Alba, Albert, Alberto, Aldo, Aleah, Alec, Aleena, Alejandra, Alejandro, Aleksander, Aleksandra, Alessandra, Alessandro, Alessia, Alex, Alexa, Alexander, Alexandra, Alexandria, Alexia, Alexis, Alfred, Alfredo, Ali, Alia, Aliah, Alice, Alicia, Alijah, Alina, Alisa, Alisha, Alison, Alissa, Alisson, Aliya, Aliyah, Aliza, Allan, Allen, Allison, Allyson, Alma, Alondra, Alonso, Alpha, Alston, Alter, Alvin, Alyson, Alyssa, Amadou, Amaia, Amalia, Amanda, Amani, Amar'E, Amara, Amare, Amari, Amaya, Amayah, Ambar, Amber, Amberly, Ameer, Amelia, Amelie, Amia, Amina, Aminata, Amir, Amira, Amirah, Amirjon, Amiya, Amiyah, Amora, Amrom, Amy, Ana, Anabel, Anabella, Anabelle, Anabia, Anahi, Anais, Analia, Ananya, Anas, Anastasia, Anaya, Anayah, Anderson, Andre, Andrea, Andres, Andrew, Andy, Angel, Angela, Angelica, Angelina, Angeline, Angelique, Angelo, Angely, Angie, Angus, Anika, Anisa, Anisha, Aniya, Aniyah, Anjali, Anna, Annabel, Annabella, Annabelle, Annalise, Anne, Annie, Annika, Ansel, Anson, Anthony, Anton, Antonella, Antonia, Antonio, Anya, April, Arabella, Archer, Arden, Arely, Arham, Ari, Aria, Ariadna, Ariadne, Ariah, Arian, Ariana, Arianna, Arianny, Ariel, Ariela, Ariella, Arielle, Arisha, Ariyah, Arjun, Arleth, Arlette, Arlo, Armaan, Armando, Armani, Aron, Arthur, Arturo, Arvin, Arya, Aryan, Arye, Aryeh, Asher, Ashley, Ashly, Ashton, Asia, Astrid, Atara, Athena, Atticus, Aubree, Aubrey, Audrey, August, Augustus, Aurelia, Aurora, Austin, Autumn, Ava, Avery, Avi, Aviel, Avigail, Avital, Aviva, Avraham, Avril, Avrohom, Avrum, Awa, Axel, Aya, Ayaan, Ayala, Ayan, Ayanna, Ayat, Ayden, Aydin, Ayelet, Ayesha, Ayla, Ayleen, Aylin, Ayra, Azaan, Azaria, Azariah, Aziza, Baila, Bailey, Barbara, Baruch, Basya, Batsheva, Batya, Beatrice, Beatrix, Beau, Beckett, Belen, Bella, Ben, Benjamin, Bennett, Benson, Bentzion, Benzion, Berish, Berl, Bethany, Bianca, Billie, Bina, Bintou, Binyamin, Binyomin, Blair, Blake, Blessing, Blima, Blimy, Bodhi, Bonnie, Boruch, Boubacar, Bowen, Bracha, Bradley, Brady, Brandon, Brayan, Brayden, Breindy, Brenda, Brendan, Bria, Brian, Briana, Brianna, Brianny, Bridget, Briella, Brielle, Brigitte, Britney, Brittany, Brody, Brooke, Brooklyn, Brooks, Bruce, Brucha, Bruchy, Bruno, Bryan, Bryanna, Bryant, Bryce, Brynn, Bryson, Burech, Byron, Caden, Caiden, Cairo, Caitlin, Caleb, Cali, Callie, Calvin, Camden, Cameron, Camila, Camilla, Camille, Camilo, Camren, Carina, Carla, Carlos, Carly, Carmelo, Carmen, Carmine, Carolina, Caroline, Carson, Carter, Casey, Cassandra, Cassidy, Cataleya, Catalina, Catherine, Cayden, Cecelia, Cecilia, Celeste, Celia, Celine, Cesar, Chace, Chad, Chaim, Chana, Chance, Chanel, Chanie, Chany, Charles, Charlie, Charlotte, Chase, Chava, Chavy, Chaya, Chelsea, Cheskel, Chesky, Cheyenne, Chiara, Chloe, Chris, Christian, Christina, Christine, Christopher, Christy, Cindy, Claire, Clara, Clark, Claudia, Clementine, Cleo, Cody, Cole, Colette, Colin, Colton, Connie, Connor, Conor, Cooper, Cora, Corey, Cormac, Cristian, Cristina, Cristofer, Cristopher, Crosby, Crystal, Cynthia, Cyrus, Dahlia, Daisy, Dakota, Daleyza, Dalia, Dallas, Damani, Damari, Damaris, Damian, Damien, Damon, Dana, Daniel, Daniela, Daniella, Danielle, Danna, Danny, Dante, Daphne, Dara, Daria, Dariel, Darius, Darren, Darwin, Dashiell, David, Dayana, Dean, Deborah, Declan, Delilah, Demi, Denis, Denise, Denisse, Dennis, Denzel, Dereck, Derek, Derick, Derrick, Desmond, Destiny, Devin, Devoiry, Devon, Devora, Devorah, Devory, Diana, Diego, Dilan, Dillon, Dina, Dion, Dior, Diya, Diyora, Dominic, Dominick, Donovan, Doris, Dov, Dovid, Dream, Drew, Dua, Dulce, Duvid, Dwayne, Dylan, Ean, Eason, Eddie, Eddy, Eden, Edgar, Edison, Edith, Eduardo, Edward, Edwin, Efraim, Egypt, Eileen, Eitan, Elaine, Elan, Eleanor, Elena, Eleni, Eli, Eliam, Elian, Eliana, Elianna, Elianny, Elias, Eliel, Eliezer, Elijah, Elimelech, Elina, Eliot, Elisa, Elise, Elisheva, Eliyahu, Eliza, Elizabeth, Ella, Elle, Elliana, Ellie, Elliot, Elliott, Ellis, Elodie, Eloise, Elsa, Eluzer, Elvin, Elvis, Elya, Emaan, Emani, Emanuel, Emely, Emerson, Emery, Emil, Emilia, Emiliano, Emilio, Emily, Emir, Emma, Emmanuel, Emmanuella, Emmeline, Emmett, Emmy, Empress, Enrique, Enzo, Ephraim, Eric, Erica, Erick, Erik, Erika, Erin, Ermias, Eshaal, Eshal, Eshan, Esme, Esmeralda, Essence, Esteban, Estelle, Ester, Esther, Estrella, Esty, Ethan, Etty, Eunice, Eva, Evan, Evangeline, Eve, Evelina, Evelyn, Everett, Everly, Evie, Eyad, Ezekiel, Ezequiel, Ezra, Ezriel, Fabian, Faiga, Faigy, Faith, Fanta, Farah, Farhan, Farida, Fatima, Fatou, Fatoumata, Felipe, Felix, Fernanda, Fernando, Feynman, Filip, Finley, Finn, Finnegan, Fiona, Fishel, Florence, Fradel, Frady, Fraidy, Frances, Francesca, Francesco, Francis, Francisco, Frank, Franklin, Freddy, Frederick, Freida, Freya, Frida, Frieda, Frimet, Gabriel, Gabriela, Gabriella, Gabrielle, Gael, Gaia, Galilea, Gary, Gavin, Gavriel, Gemma, Genesis, Genevieve, George, Georgia, Georgina, Geraldine, Gerard, Gerardo, Gia, Giada, Giancarlo, Gianluca, Gianna, Gianni, Gideon, Giovani, Giovanna, Giovanni, Giovanny, Giselle, Gittel, Gitty, Giulia, Giuliana, Giuseppe, Golda, Goldie, Goldy, Gordon, Grace, Graham, Grant, Grayson, Gregory, Greta, Grey, Greyson, Griffin, Guadalupe, Gustavo, Guy, Gwendolyn, Hadassa, Hadassah, Hadley, Hafsa, Hailey, Hailie, Haley, Hamza, Hana, Haniya, Hanley, Hanna, Hannah, Hao, Hareem, Harley, Harlow, Harmony, Harper, Harrison, Harry, Harvey, Hashim, Hassan, Hawa, Hayden, Haylee, Hayley, Hazel, Heaven, Heavenly, Hector, Heidi, Heidy, Helen, Helena, Henchy, Hendy, Henny, Henry, Herman, Hersh, Hershel, Hershy, Hillel, Hinda, Hindy, Holden, Hoorain, Hope, Hudson, Hugo, Hunter, Ian, Ibrahim, Ibrahima, Ibrohim, Idris, Idy, Iker, Ilan, Ilana, Imani, Imogen, Imona, Imran, Inaaya, Inaya, Ines, Ingrid, Irene, Iris, Isaac, Isabel, Isabela, Isabella, Isabelle, Isaiah, Isaias, Ishaan, Ishmael, Isiah, Isis, Isla, Ismael, Ismail, Israel, Issac, Itzel, Ivaan, Ivan, Ivanna, Ivy, Iymona, Izabella, Izaiah, Jabari, Jace, Jack, Jackson, Jacky, Jacob, Jacqueline, Jad, Jada, Jade, Jaden, Jadiel, Jael, Jaelyn, Jaelynn, Jaheim, Jahir, Jahmir, Jaiden, Jaime, Jair, Jake, Jakob, Jakub, Jalen, Jaliyah, Jamal, Jamar, Jamari, Jamel, James, Jameson, Jamie, Jamir, Jana, Janae, Jane, Janelle, Janice, Janiel, Janiya, Janiyah, Jannat, Jannatul, Januel, Jared, Jariel, Jasiah, Jaslene, Jaslyn, Jasmin, Jasmina, Jasmine, Jason, Jasper, Javier, Jax, Jaxon, Jaxson, Jay, Jayce, Jayceon, Jaycob, Jayda, Jayden, Jayla, Jaylah, Jaylee, Jayleen, Jaylen, Jaylene, Jaylin, Jaylyn, Jayren, Jayson, Jaziel, Jazlyn, Jazmin, Jazmine, Jazzlyn, Jean, Jeancarlos, Jefferson, Jeffrey, Jelani, Jencarlos, Jenna, Jennifer, Jenny, Jeremiah, Jeremias, Jeremy, Jermaine, Jerry, Jesse, Jessica, Jessie, Jesus, Jewel, Jia, Jimena, Jimmy, Joanna, Joaquin, Jocelyn, Joel, Johan, Johann, Johanna, John, Johnathan, Johnny, Jolie, Jolin, Jonael, Jonah, Jonas, Jonathan, Jordan, Jordi, Jordyn, Jorge, Jose, Josef, Joselyn, Joseph, Josephine, Joshua, Josiah, Josie, Josue, Journee, Journey, Joy, Joyce, Joziah, Juan, Judah, Jude, Judy, Julia, Julian, Juliana, Julianna, Julie, Julien, Juliet, Juliette, Julio, Julissa, Julius, Jun, June, Junior, Juniper, Justice, Justin, Kabir, Kacper, Kaden, Kadiatou, Kaelyn, Kai, Kaia, Kaiden, Kailani, Kailee, Kailey, Kailyn, Kairo, Kaitlyn, Kalani, Kaleb, Kali, Kaliyah, Kamari, Kameron, Kamila, Kamiyah, Kamren, Karas, Kareem, Karen, Karina, Karla, Karter, Kassandra, Kate, Katelyn, Katelynn, Katerina, Katherine, Kathryn, Katie, Kaya, Kayden, Kayla, Kaylani, Kaylee, Kayleen, Kayleigh, Kaylie, Kaylin, Kayson, Kazi, Kehlani, Keila, Keily, Keira, Keith, Kelly, Kelsey, Kelvin, Kendra, Kendrick, Kennedi, Kennedy, Kenneth, Kenny, Kenya, Kenzie, Kenzo, Kevin, Keyla, Khadija, Khadijah, Khaleesi, Khalil, Khari, Khloe, Kian, Kiara, Kiera, Kieran, Kimberly, Kimi, Kimora, King, Kingsley, Kingston, Kira, Kiyan, Kori, Kourtney, Krish, Kristen, Kristian, Kristina, Krystal, Kyla, Kyle, Kylee, Kylie, Kymani, Kyree, Kyrie, Kyro, Kyson, Laia, Laila, Lailah, Laith, Lamar, Lana, Landon, Lara, Larry, Laura, Lauren, Lauryn, Lawrence, Layan, Layla, Lazer, Lea, Leah, Leandro, Leanna, Leela, Legend, Leia, Leibish, Leila, Leilani, Leilany, Lena, Lennox, Lenny, Leo, Leon, Leona, Leonard, Leonardo, Leonel, Leonidas, Leora, Lesley, Leslie, Lesly, Lev, Levi, Leyla, Lia, Liah, Liam, Lian, Liana, Lianna, Liba, Libby, Lielle, Lila, Lilah, Lilia, Lilian, Liliana, Lillian, Lilliana, Lilly, Lily, Lina, Lincoln, Linda, Lindsay, Lionel, Liora, Lipa, Lisa, Litzy, Liv, Livia, Liyana, Liz, Lizbeth, Lizeth, Logan, Lola, London, Londyn, Lorenzo, Louis, Louisa, Louise, Luca, Lucas, Lucia, Lucian, Luciana, Lucien, Lucille, Lucy, Luis, Luka, Lukas, Luke, Luna, Luz, Lyanna, Lydia, Lyla, Lyric, Mabel, Mackenzie, Maddox, Madeleine, Madeline, Madelyn, Madina, Madison, Madisyn, Mae, Maeve, Magaly, Maggie, Mahamadou, Mahnoor, Maia, Maimouna, Maisie, Maison, Maite, Major, Makai, Makayla, Makenzie, Makhi, Maksim, Malachi, Malak, Malaysia, Malcolm, Malek, Malia, Maliha, Malik, Malika, Maliyah, Malka, Malky, Mamadou, Mandy, Manha, Manuel, Marc, Marcel, Marcelo, Marco, Marcos, Marcus, Margaret, Margaux, Margot, Maria, Mariah, Mariam, Mariama, Mariana, Marie, Marielle, Marilyn, Marina, Mario, Marisol, Marjorie, Mark, Marley, Marlon, Marlowe, Marquis, Martin, Marvin, Mary, Maryam, Mason, Massimo, Mateo, Mathew, Mathias, Matias, Matilda, Matteo, Matthew, Matthias, Maurice, Mauricio, Maverick, Max, Maxim, Maximilian, Maximiliano, Maximo, Maximus, Maxwell, Maya, Mayar, Mayer, Mayson, Mckenzie, Md, Mechel, Meera, Megan, Meghan, Meilech, Meir, Meira, Mekhi, Melania, Melanie, Melany, Melina, Melissa, Melody, Melvin, Menachem, Menashe, Mendel, Mendy, Menucha, Meshilem, Messiah, Meyer, Mia, Miah, Micaela, Micah, Michael, Michaela, Michal, Michelle, Miguel, Mika, Mikael, Mikaela, Mikayla, Mike, Mila, Milagros, Milan, Milana, Milani, Milania, Milena, Miles, Miley, Millie, Milo, Mina, Mindy, Mira, Miracle, Miranda, Mirel, Miri, Miriam, Misael, Miya, Mohamed, Mohammad, Mohammed, Moises, Moishe, Moishy, Mollie, Molly, Monica, Monserrat, Montserrat, Mordche, Mordechai, Morgan, Morris, Moses, Moshe, Motty, Mouhamed, Moussa, Muhammad, Muhammad Ali, Muntaha, Musa, Mushka, Muslima, Mustafa, Mya, Myles, Myra, Nabiha, Nachman, Nadia, Naftali, Naftuli, Nahla, Nailah, Nala, Nalani, Nana, Nancy, Naomi, Nashla, Nashley, Nashly, Nasir, Natalia, Natalie, Nataly, Natasha, Nathalia, Nathalie, Nathaly, Nathan, Nathanael, Nathaniel, Nava, Nayeli, Nayla, Nazir, Nechama, Nehemiah, Neil, Nelson, Nevaeh, Neymar, Nia, Niam, Nicholas, Nico, Nicolas, Nicole, Nicolette, Nigel, Nikhil, Nikita, Nikolai, Nikolas, Nina, Noa, Noach, Noah, Noam, Noel, Noelle, Noemi, Nolan, Noor, Nora, Norah, Nosson, Nova, Nuchem, Nusrat, Nyah, Nyla, Nylah, Olive, Oliver, Olivia, Olympia, Omar, Omari, Ophelia, Oren, Ori, Orion, Orlando, Orly, Oscar, Oskar, Otis, Otto, Oumar, Oumou, Ousmane, Owen, Pablo, Paige, Paloma, Pamela, Paola, Paris, Parizoda, Parker, Patrick, Paul, Paula, Payton, Pearl, Pedro, Penelope, Perel, Peretz, Perl, Perla, Perry, Pessy, Peter, Peyton, Philip, Phoebe, Phoenix, Pierce, Pinchas, Pinchus, Piper, Polina, Poppy, Precious, Preston, Prince, Princess, Princeton, Priscilla, Queena, Queenie, Quincy, Quinn, Rachel, Rafael, Rahaf, Raina, Raizel, Raizy, Ralph, Randy, Raphael, Raquel, Raul, Raya, Rayan, Raymond, Rayna, Rayyan, Reagan, Rebecca, Reed, Reem, Reese, Rehan, Reid, Reign, Reina, Reizy, Remi, Remy, Rena, Renata, Renee, Reuben, Reuven, Rhea, Rhys, Ricardo, Richard, Ricky, Rifka, Rifky, Rihanna, Riley, Rina, Riva, River, Rivka, Rivkah, Rivky, Riya, Robert, Roberto, Rocco, Rochel, Rodney, Rodrigo, Roger, Rohaan, Rohan, Roiza, Roizy, Roman, Romeo, Romy, Ronald, Ronaldo, Ronan, Rory, Rosa, Rose, Roselyn, Rosemary, Rosie, Rowan, Roy, Royal, Royalty, Royce, Ruben, Ruby, Ruchel, Ruchy, Russell, Ruth, Ryan, Ryder, Rylee, Sabiha, Sabina, Sabrina, Sade, Sadie, Safa, Safwan, Sage, Sahil, Saif, Saifan, Saige, Saint, Salma, Salome, Salvatore, Sam, Sama, Samaira, Samantha, Samara, Sami, Samir, Samira, Samiya, Samiyah, Sammy, Samuel, Sanaa, Sanai, Sandra, Saniya, Saniyah, Santiago, Santino, Saoirse, Sapphire, Sara, Sarah, Sarahi, Sarai, Sari, Sariah, Sarina, Sariyah, Sasha, Saul, Savanna, Savannah, Savion, Sawyer, Scarlet, Scarlett, Scott, Sean, Sebastian, Sekou, Selena, Selim, Selina, Selma, Serafina, Serena, Serenity, Sergio, Seth, Sevyn, Shaina, Shaindel, Shaindy, Shalom, Shane, Shania, Shaniya, Sharon, Shaul, Shawn, Shaya, Shayaan, Shayan, Shayla, Shayna, Shea, Sheldon, Sherlyn, Sherry, Shevy, Shia, Shifra, Shiloh, Shimon, Shira, Shirley, Shloime, Shloimy, Shloma, Shlome, Shlomo, Shmiel, Shmuel, Shneur, Sholom, Shoshana, Shraga, Shreya, Shukrona, Shulem, Sidney, Siena, Sienna, Silas, Sima, Simcha, Simi, Simon, Simone, Sincere, Sky, Skye, Skyla, Skylah, Skylar, Skyler, Sloane, Sofia, Solomon, Sonia, Sonny, Sophia, Sophie, Soraya, Spencer, Stacey, Stacy, Stanley, Stefan, Stella, Stephanie, Stephany, Stephen, Steve, Steven, Subhan, Sulaiman, Summer, Sunny, Suri, Sury, Sydney, Syed, Syeda, Sylvia, Sylvie, Symphony, Tabitha, Tahmid, Talia, Taliyah, Tallulah, Tamar, Tamara, Tamia, Tanisha, Taraji, Tasnim, Tatiana, Taylor, Teagan, Tehila, Tenzin, Terrell, Terrence, Terry, Tess, Tessa, Thea, Theo, Theodora, Theodore, Thiago, Thierno, Thomas, Tiana, Tianna, Tiffany, Timothy, Timur, Tina, Toba, Tobias, Toby, Tomas, Tony, Tori, Tova, Trany, Travis, Trinity, Tristan, Troy, Tyler, Tzipora, Tziporah, Tzippy, Tzirel, Tzivia, Tzvi, Umar, Uriel, Usher, Valentin, Valentina, Valentino, Valeria, Valerie, Valery, Vanessa, Veer, Vera, Veronica, Veronika, Vicky, Victor, Victoria, Vienna, Vihaan, Viktor, Vincent, Vincenzo, Violet, Violeta, Virginia, Vivian, Viviana, Vivienne, Walker, Walter, Wendy, Wesley, Weston, Wilder, Willa, William, Willow, Wilson, Winnie, Winston, Winter, Wolf, Wyatt, Wynter, Xander, Xavier, Ximena, Xin, Yaakov, Yachet, Yadiel, Yael, Yahir, Yahya, Yair, Yakov, Yamilet, Yamileth, Yandel, Yaniel, Yanky, Yara, Yareli, Yaretzi, Yariel, Yaritza, Yaseen, Yasmin, Yasmina, Yasmine, Yassin, Yechezkel, Yechiel, Yehoshua, Yehuda, Yehudah, Yehudis, Yerik, Yesenia, Yeshaya, Yida, Yidel, Yides, Yisrael, Yisroel, Yitta, Yitty, Yitzchak, Yitzchok, Yocheved, Yoel, Yona, Yonah, Yonatan, Yosef, Yossi, Younis, Yousef, Youssef, Yu, Yuna, Yusuf, Zabdiel, Zachariah, Zachary, Zahara, Zahir, Zahra, Zaid, Zaiden, Zain, Zainab, Zaire, Zakaria, Zalmen, Zamir, Zander, Zane, Zaniyah, Zara, Zaria, Zariah, Zayan, Zayden, Zayn, Zelda, Zendaya, Zev, Zhuri, Zion, Zissy, Zoe, Zoey, Zora, Zoya, Zuri, Zyaire\""
      ]
     },
     "execution_count": 6,
     "metadata": {},
     "output_type": "execute_result"
    }
   ],
   "source": [
    "', '.join(baby['Child\\'s_First_Name'].str.title().drop_duplicates().sort_values())"
   ]
  },
  {
   "cell_type": "code",
   "execution_count": 3,
   "id": "e7b6a933-5836-4308-a938-696f667eca6e",
   "metadata": {},
   "outputs": [],
   "source": [
    "from pandas_datareader import data\n",
    "import matplotlib.pyplot as plt\n"
   ]
  },
  {
   "cell_type": "code",
   "execution_count": 9,
   "id": "797898dc-a246-4e12-b849-1026f02eb2d9",
   "metadata": {},
   "outputs": [
    {
     "ename": "TypeError",
     "evalue": "string indices must be integers",
     "output_type": "error",
     "traceback": [
      "\u001b[1;31m---------------------------------------------------------------------------\u001b[0m",
      "\u001b[1;31mTypeError\u001b[0m                                 Traceback (most recent call last)",
      "Cell \u001b[1;32mIn[9], line 1\u001b[0m\n\u001b[1;32m----> 1\u001b[0m \u001b[43mdata\u001b[49m\u001b[38;5;241;43m.\u001b[39;49m\u001b[43mDataReader\u001b[49m\u001b[43m(\u001b[49m\u001b[43mname\u001b[49m\u001b[38;5;241;43m=\u001b[39;49m\u001b[43m \u001b[49m\u001b[38;5;124;43m\"\u001b[39;49m\u001b[38;5;124;43mBB\u001b[39;49m\u001b[38;5;124;43m\"\u001b[39;49m\u001b[43m,\u001b[49m\u001b[43m \u001b[49m\u001b[43mdata_source\u001b[49m\u001b[38;5;241;43m=\u001b[39;49m\u001b[43m \u001b[49m\u001b[38;5;124;43m\"\u001b[39;49m\u001b[38;5;124;43myahoo\u001b[39;49m\u001b[38;5;124;43m\"\u001b[39;49m\u001b[43m,\u001b[49m\u001b[43m \u001b[49m\u001b[43mstart\u001b[49m\u001b[43m \u001b[49m\u001b[38;5;241;43m=\u001b[39;49m\u001b[43m \u001b[49m\u001b[38;5;124;43m\"\u001b[39;49m\u001b[38;5;124;43m2007-01-01\u001b[39;49m\u001b[38;5;124;43m\"\u001b[39;49m\u001b[43m,\u001b[49m\u001b[43m \u001b[49m\u001b[43mend\u001b[49m\u001b[38;5;241;43m=\u001b[39;49m\u001b[43m \u001b[49m\u001b[38;5;124;43m\"\u001b[39;49m\u001b[38;5;124;43m2020-12-31\u001b[39;49m\u001b[38;5;124;43m\"\u001b[39;49m\u001b[43m)\u001b[49m\n",
      "File \u001b[1;32m~\\miniconda3\\lib\\site-packages\\pandas\\util\\_decorators.py:211\u001b[0m, in \u001b[0;36mdeprecate_kwarg.<locals>._deprecate_kwarg.<locals>.wrapper\u001b[1;34m(*args, **kwargs)\u001b[0m\n\u001b[0;32m    209\u001b[0m     \u001b[38;5;28;01melse\u001b[39;00m:\n\u001b[0;32m    210\u001b[0m         kwargs[new_arg_name] \u001b[38;5;241m=\u001b[39m new_arg_value\n\u001b[1;32m--> 211\u001b[0m \u001b[38;5;28;01mreturn\u001b[39;00m func(\u001b[38;5;241m*\u001b[39margs, \u001b[38;5;241m*\u001b[39m\u001b[38;5;241m*\u001b[39mkwargs)\n",
      "File \u001b[1;32m~\\miniconda3\\lib\\site-packages\\pandas_datareader\\data.py:379\u001b[0m, in \u001b[0;36mDataReader\u001b[1;34m(name, data_source, start, end, retry_count, pause, session, api_key)\u001b[0m\n\u001b[0;32m    367\u001b[0m     \u001b[38;5;28;01mraise\u001b[39;00m \u001b[38;5;167;01mNotImplementedError\u001b[39;00m(msg)\n\u001b[0;32m    369\u001b[0m \u001b[38;5;28;01mif\u001b[39;00m data_source \u001b[38;5;241m==\u001b[39m \u001b[38;5;124m\"\u001b[39m\u001b[38;5;124myahoo\u001b[39m\u001b[38;5;124m\"\u001b[39m:\n\u001b[0;32m    370\u001b[0m     \u001b[38;5;28;01mreturn\u001b[39;00m \u001b[43mYahooDailyReader\u001b[49m\u001b[43m(\u001b[49m\n\u001b[0;32m    371\u001b[0m \u001b[43m        \u001b[49m\u001b[43msymbols\u001b[49m\u001b[38;5;241;43m=\u001b[39;49m\u001b[43mname\u001b[49m\u001b[43m,\u001b[49m\n\u001b[0;32m    372\u001b[0m \u001b[43m        \u001b[49m\u001b[43mstart\u001b[49m\u001b[38;5;241;43m=\u001b[39;49m\u001b[43mstart\u001b[49m\u001b[43m,\u001b[49m\n\u001b[0;32m    373\u001b[0m \u001b[43m        \u001b[49m\u001b[43mend\u001b[49m\u001b[38;5;241;43m=\u001b[39;49m\u001b[43mend\u001b[49m\u001b[43m,\u001b[49m\n\u001b[0;32m    374\u001b[0m \u001b[43m        \u001b[49m\u001b[43madjust_price\u001b[49m\u001b[38;5;241;43m=\u001b[39;49m\u001b[38;5;28;43;01mFalse\u001b[39;49;00m\u001b[43m,\u001b[49m\n\u001b[0;32m    375\u001b[0m \u001b[43m        \u001b[49m\u001b[43mchunksize\u001b[49m\u001b[38;5;241;43m=\u001b[39;49m\u001b[38;5;241;43m25\u001b[39;49m\u001b[43m,\u001b[49m\n\u001b[0;32m    376\u001b[0m \u001b[43m        \u001b[49m\u001b[43mretry_count\u001b[49m\u001b[38;5;241;43m=\u001b[39;49m\u001b[43mretry_count\u001b[49m\u001b[43m,\u001b[49m\n\u001b[0;32m    377\u001b[0m \u001b[43m        \u001b[49m\u001b[43mpause\u001b[49m\u001b[38;5;241;43m=\u001b[39;49m\u001b[43mpause\u001b[49m\u001b[43m,\u001b[49m\n\u001b[0;32m    378\u001b[0m \u001b[43m        \u001b[49m\u001b[43msession\u001b[49m\u001b[38;5;241;43m=\u001b[39;49m\u001b[43msession\u001b[49m\u001b[43m,\u001b[49m\n\u001b[1;32m--> 379\u001b[0m \u001b[43m    \u001b[49m\u001b[43m)\u001b[49m\u001b[38;5;241;43m.\u001b[39;49m\u001b[43mread\u001b[49m\u001b[43m(\u001b[49m\u001b[43m)\u001b[49m\n\u001b[0;32m    381\u001b[0m \u001b[38;5;28;01melif\u001b[39;00m data_source \u001b[38;5;241m==\u001b[39m \u001b[38;5;124m\"\u001b[39m\u001b[38;5;124miex\u001b[39m\u001b[38;5;124m\"\u001b[39m:\n\u001b[0;32m    382\u001b[0m     \u001b[38;5;28;01mreturn\u001b[39;00m IEXDailyReader(\n\u001b[0;32m    383\u001b[0m         symbols\u001b[38;5;241m=\u001b[39mname,\n\u001b[0;32m    384\u001b[0m         start\u001b[38;5;241m=\u001b[39mstart,\n\u001b[1;32m   (...)\u001b[0m\n\u001b[0;32m    390\u001b[0m         session\u001b[38;5;241m=\u001b[39msession,\n\u001b[0;32m    391\u001b[0m     )\u001b[38;5;241m.\u001b[39mread()\n",
      "File \u001b[1;32m~\\miniconda3\\lib\\site-packages\\pandas_datareader\\base.py:253\u001b[0m, in \u001b[0;36m_DailyBaseReader.read\u001b[1;34m(self)\u001b[0m\n\u001b[0;32m    251\u001b[0m \u001b[38;5;66;03m# If a single symbol, (e.g., 'GOOG')\u001b[39;00m\n\u001b[0;32m    252\u001b[0m \u001b[38;5;28;01mif\u001b[39;00m \u001b[38;5;28misinstance\u001b[39m(\u001b[38;5;28mself\u001b[39m\u001b[38;5;241m.\u001b[39msymbols, (string_types, \u001b[38;5;28mint\u001b[39m)):\n\u001b[1;32m--> 253\u001b[0m     df \u001b[38;5;241m=\u001b[39m \u001b[38;5;28;43mself\u001b[39;49m\u001b[38;5;241;43m.\u001b[39;49m\u001b[43m_read_one_data\u001b[49m\u001b[43m(\u001b[49m\u001b[38;5;28;43mself\u001b[39;49m\u001b[38;5;241;43m.\u001b[39;49m\u001b[43murl\u001b[49m\u001b[43m,\u001b[49m\u001b[43m \u001b[49m\u001b[43mparams\u001b[49m\u001b[38;5;241;43m=\u001b[39;49m\u001b[38;5;28;43mself\u001b[39;49m\u001b[38;5;241;43m.\u001b[39;49m\u001b[43m_get_params\u001b[49m\u001b[43m(\u001b[49m\u001b[38;5;28;43mself\u001b[39;49m\u001b[38;5;241;43m.\u001b[39;49m\u001b[43msymbols\u001b[49m\u001b[43m)\u001b[49m\u001b[43m)\u001b[49m\n\u001b[0;32m    254\u001b[0m \u001b[38;5;66;03m# Or multiple symbols, (e.g., ['GOOG', 'AAPL', 'MSFT'])\u001b[39;00m\n\u001b[0;32m    255\u001b[0m \u001b[38;5;28;01melif\u001b[39;00m \u001b[38;5;28misinstance\u001b[39m(\u001b[38;5;28mself\u001b[39m\u001b[38;5;241m.\u001b[39msymbols, DataFrame):\n",
      "File \u001b[1;32m~\\miniconda3\\lib\\site-packages\\pandas_datareader\\yahoo\\daily.py:153\u001b[0m, in \u001b[0;36mYahooDailyReader._read_one_data\u001b[1;34m(self, url, params)\u001b[0m\n\u001b[0;32m    151\u001b[0m \u001b[38;5;28;01mtry\u001b[39;00m:\n\u001b[0;32m    152\u001b[0m     j \u001b[38;5;241m=\u001b[39m json\u001b[38;5;241m.\u001b[39mloads(re\u001b[38;5;241m.\u001b[39msearch(ptrn, resp\u001b[38;5;241m.\u001b[39mtext, re\u001b[38;5;241m.\u001b[39mDOTALL)\u001b[38;5;241m.\u001b[39mgroup(\u001b[38;5;241m1\u001b[39m))\n\u001b[1;32m--> 153\u001b[0m     data \u001b[38;5;241m=\u001b[39m \u001b[43mj\u001b[49m\u001b[43m[\u001b[49m\u001b[38;5;124;43m\"\u001b[39;49m\u001b[38;5;124;43mcontext\u001b[39;49m\u001b[38;5;124;43m\"\u001b[39;49m\u001b[43m]\u001b[49m\u001b[43m[\u001b[49m\u001b[38;5;124;43m\"\u001b[39;49m\u001b[38;5;124;43mdispatcher\u001b[39;49m\u001b[38;5;124;43m\"\u001b[39;49m\u001b[43m]\u001b[49m\u001b[43m[\u001b[49m\u001b[38;5;124;43m\"\u001b[39;49m\u001b[38;5;124;43mstores\u001b[39;49m\u001b[38;5;124;43m\"\u001b[39;49m\u001b[43m]\u001b[49m\u001b[43m[\u001b[49m\u001b[38;5;124;43m\"\u001b[39;49m\u001b[38;5;124;43mHistoricalPriceStore\u001b[39;49m\u001b[38;5;124;43m\"\u001b[39;49m\u001b[43m]\u001b[49m\n\u001b[0;32m    154\u001b[0m \u001b[38;5;28;01mexcept\u001b[39;00m \u001b[38;5;167;01mKeyError\u001b[39;00m:\n\u001b[0;32m    155\u001b[0m     msg \u001b[38;5;241m=\u001b[39m \u001b[38;5;124m\"\u001b[39m\u001b[38;5;124mNo data fetched for symbol \u001b[39m\u001b[38;5;132;01m{}\u001b[39;00m\u001b[38;5;124m using \u001b[39m\u001b[38;5;132;01m{}\u001b[39;00m\u001b[38;5;124m\"\u001b[39m\n",
      "\u001b[1;31mTypeError\u001b[0m: string indices must be integers"
     ]
    }
   ],
   "source": [
    "data.DataReader(name= \"BB\", data_source= \"yahoo\", start = \"2007-01-01\", end= \"2020-12-31\")\n"
   ]
  },
  {
   "cell_type": "code",
   "execution_count": null,
   "id": "cef9c367-c0f2-49af-bf25-7821cd822bb4",
   "metadata": {},
   "outputs": [],
   "source": []
  }
 ],
 "metadata": {
  "kernelspec": {
   "display_name": "Python 3 (ipykernel)",
   "language": "python",
   "name": "python3"
  },
  "language_info": {
   "codemirror_mode": {
    "name": "ipython",
    "version": 3
   },
   "file_extension": ".py",
   "mimetype": "text/x-python",
   "name": "python",
   "nbconvert_exporter": "python",
   "pygments_lexer": "ipython3",
   "version": "3.10.8"
  }
 },
 "nbformat": 4,
 "nbformat_minor": 5
}
