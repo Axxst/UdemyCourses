{
 "cells": [
  {
   "cell_type": "code",
   "execution_count": 1,
   "id": "37abd498-7690-4d3d-92a4-996c3863a37e",
   "metadata": {},
   "outputs": [],
   "source": [
    "import pandas as pd"
   ]
  },
  {
   "cell_type": "code",
   "execution_count": 40,
   "id": "74d81c2a-6310-4469-87ce-3e0441c5af39",
   "metadata": {},
   "outputs": [
    {
     "data": {
      "text/html": [
       "<div>\n",
       "<style scoped>\n",
       "    .dataframe tbody tr th:only-of-type {\n",
       "        vertical-align: middle;\n",
       "    }\n",
       "\n",
       "    .dataframe tbody tr th {\n",
       "        vertical-align: top;\n",
       "    }\n",
       "\n",
       "    .dataframe thead th {\n",
       "        text-align: right;\n",
       "    }\n",
       "</style>\n",
       "<table border=\"1\" class=\"dataframe\">\n",
       "  <thead>\n",
       "    <tr style=\"text-align: right;\">\n",
       "      <th></th>\n",
       "      <th>Name</th>\n",
       "      <th>Position Title</th>\n",
       "      <th>Department</th>\n",
       "      <th>Employee Annual Salary</th>\n",
       "    </tr>\n",
       "  </thead>\n",
       "  <tbody>\n",
       "    <tr>\n",
       "      <th>0</th>\n",
       "      <td>AARON,  ELVIA J</td>\n",
       "      <td>WATER RATE TAKER</td>\n",
       "      <td>WATER MGMNT</td>\n",
       "      <td>$90744.00</td>\n",
       "    </tr>\n",
       "    <tr>\n",
       "      <th>1</th>\n",
       "      <td>AARON,  JEFFERY M</td>\n",
       "      <td>POLICE OFFICER</td>\n",
       "      <td>POLICE</td>\n",
       "      <td>$84450.00</td>\n",
       "    </tr>\n",
       "    <tr>\n",
       "      <th>2</th>\n",
       "      <td>AARON,  KARINA</td>\n",
       "      <td>POLICE OFFICER</td>\n",
       "      <td>POLICE</td>\n",
       "      <td>$84450.00</td>\n",
       "    </tr>\n",
       "    <tr>\n",
       "      <th>3</th>\n",
       "      <td>AARON,  KIMBERLEI R</td>\n",
       "      <td>CHIEF CONTRACT EXPEDITER</td>\n",
       "      <td>GENERAL SERVICES</td>\n",
       "      <td>$89880.00</td>\n",
       "    </tr>\n",
       "    <tr>\n",
       "      <th>4</th>\n",
       "      <td>ABAD JR,  VICENTE M</td>\n",
       "      <td>CIVIL ENGINEER IV</td>\n",
       "      <td>WATER MGMNT</td>\n",
       "      <td>$106836.00</td>\n",
       "    </tr>\n",
       "    <tr>\n",
       "      <th>...</th>\n",
       "      <td>...</td>\n",
       "      <td>...</td>\n",
       "      <td>...</td>\n",
       "      <td>...</td>\n",
       "    </tr>\n",
       "    <tr>\n",
       "      <th>32058</th>\n",
       "      <td>ZYGOWICZ,  PETER J</td>\n",
       "      <td>POLICE OFFICER</td>\n",
       "      <td>POLICE</td>\n",
       "      <td>$87384.00</td>\n",
       "    </tr>\n",
       "    <tr>\n",
       "      <th>32059</th>\n",
       "      <td>ZYMANTAS,  MARK E</td>\n",
       "      <td>POLICE OFFICER</td>\n",
       "      <td>POLICE</td>\n",
       "      <td>$84450.00</td>\n",
       "    </tr>\n",
       "    <tr>\n",
       "      <th>32060</th>\n",
       "      <td>ZYRKOWSKI,  CARLO E</td>\n",
       "      <td>POLICE OFFICER</td>\n",
       "      <td>POLICE</td>\n",
       "      <td>$87384.00</td>\n",
       "    </tr>\n",
       "    <tr>\n",
       "      <th>32061</th>\n",
       "      <td>ZYSKOWSKI,  DARIUSZ</td>\n",
       "      <td>CHIEF DATA BASE ANALYST</td>\n",
       "      <td>DoIT</td>\n",
       "      <td>$113664.00</td>\n",
       "    </tr>\n",
       "    <tr>\n",
       "      <th>32062</th>\n",
       "      <td>NaN</td>\n",
       "      <td>NaN</td>\n",
       "      <td>NaN</td>\n",
       "      <td>NaN</td>\n",
       "    </tr>\n",
       "  </tbody>\n",
       "</table>\n",
       "<p>32063 rows × 4 columns</p>\n",
       "</div>"
      ],
      "text/plain": [
       "                      Name            Position Title        Department  \\\n",
       "0          AARON,  ELVIA J          WATER RATE TAKER       WATER MGMNT   \n",
       "1        AARON,  JEFFERY M            POLICE OFFICER            POLICE   \n",
       "2           AARON,  KARINA            POLICE OFFICER            POLICE   \n",
       "3      AARON,  KIMBERLEI R  CHIEF CONTRACT EXPEDITER  GENERAL SERVICES   \n",
       "4      ABAD JR,  VICENTE M         CIVIL ENGINEER IV       WATER MGMNT   \n",
       "...                    ...                       ...               ...   \n",
       "32058   ZYGOWICZ,  PETER J            POLICE OFFICER            POLICE   \n",
       "32059    ZYMANTAS,  MARK E            POLICE OFFICER            POLICE   \n",
       "32060  ZYRKOWSKI,  CARLO E            POLICE OFFICER            POLICE   \n",
       "32061  ZYSKOWSKI,  DARIUSZ   CHIEF DATA BASE ANALYST              DoIT   \n",
       "32062                  NaN                       NaN               NaN   \n",
       "\n",
       "      Employee Annual Salary  \n",
       "0                  $90744.00  \n",
       "1                  $84450.00  \n",
       "2                  $84450.00  \n",
       "3                  $89880.00  \n",
       "4                 $106836.00  \n",
       "...                      ...  \n",
       "32058              $87384.00  \n",
       "32059              $84450.00  \n",
       "32060              $87384.00  \n",
       "32061             $113664.00  \n",
       "32062                    NaN  \n",
       "\n",
       "[32063 rows x 4 columns]"
      ]
     },
     "execution_count": 40,
     "metadata": {},
     "output_type": "execute_result"
    }
   ],
   "source": [
    "chicago = pd.read_csv('chicago.csv')\n",
    "chicago"
   ]
  },
  {
   "cell_type": "code",
   "execution_count": 41,
   "id": "0e8fd5fe-6003-451f-9081-5f54e18b3d51",
   "metadata": {},
   "outputs": [
    {
     "name": "stdout",
     "output_type": "stream",
     "text": [
      "<class 'pandas.core.frame.DataFrame'>\n",
      "RangeIndex: 32063 entries, 0 to 32062\n",
      "Data columns (total 4 columns):\n",
      " #   Column                  Non-Null Count  Dtype \n",
      "---  ------                  --------------  ----- \n",
      " 0   Name                    32062 non-null  object\n",
      " 1   Position Title          32062 non-null  object\n",
      " 2   Department              32062 non-null  object\n",
      " 3   Employee Annual Salary  32062 non-null  object\n",
      "dtypes: object(4)\n",
      "memory usage: 1002.1+ KB\n"
     ]
    }
   ],
   "source": [
    "chicago.info()"
   ]
  },
  {
   "cell_type": "code",
   "execution_count": 42,
   "id": "4ba8c752-1b5c-4d51-ba80-41be8aff7e35",
   "metadata": {},
   "outputs": [],
   "source": [
    "chicago.Department = chicago.Department.astype('category')"
   ]
  },
  {
   "cell_type": "code",
   "execution_count": 43,
   "id": "50bd7879-b6ff-4d21-b860-42d7c2557728",
   "metadata": {},
   "outputs": [],
   "source": [
    "chicago['Position Title'] = chicago['Position Title'].astype('category')"
   ]
  },
  {
   "cell_type": "code",
   "execution_count": 48,
   "id": "d70c03a0-4099-426f-b6fb-584c9ccbd66f",
   "metadata": {},
   "outputs": [],
   "source": [
    "chicago['Employee Annual Salary'] = chicago['Employee Annual Salary'].replace('\\$','', regex=True)"
   ]
  },
  {
   "cell_type": "code",
   "execution_count": 37,
   "id": "4a67e781-e6b6-49de-af86-37a0719c118a",
   "metadata": {},
   "outputs": [],
   "source": [
    "chicago['Employee Annual Salary'] = chicago['Employee Annual Salary'].replace('.','', regex=True)"
   ]
  },
  {
   "cell_type": "code",
   "execution_count": 55,
   "id": "db7b4a34-6b82-43c3-b7ef-3c51b8408ce3",
   "metadata": {},
   "outputs": [],
   "source": [
    "chicago = chicago.dropna()"
   ]
  },
  {
   "cell_type": "code",
   "execution_count": 59,
   "id": "e092fc1f-ab12-48b9-9479-38029044f786",
   "metadata": {},
   "outputs": [
    {
     "name": "stderr",
     "output_type": "stream",
     "text": [
      "C:\\Users\\User\\AppData\\Local\\Temp\\ipykernel_12836\\2664688801.py:1: SettingWithCopyWarning: \n",
      "A value is trying to be set on a copy of a slice from a DataFrame.\n",
      "Try using .loc[row_indexer,col_indexer] = value instead\n",
      "\n",
      "See the caveats in the documentation: https://pandas.pydata.org/pandas-docs/stable/user_guide/indexing.html#returning-a-view-versus-a-copy\n",
      "  chicago['Employee Annual Salary'] = chicago['Employee Annual Salary'].astype('float')\n"
     ]
    }
   ],
   "source": [
    "chicago['Employee Annual Salary'] = chicago['Employee Annual Salary'].astype('float')"
   ]
  },
  {
   "cell_type": "code",
   "execution_count": 60,
   "id": "93684185-a4a9-4ff3-ab09-5d8071d05b04",
   "metadata": {},
   "outputs": [
    {
     "name": "stderr",
     "output_type": "stream",
     "text": [
      "C:\\Users\\User\\AppData\\Local\\Temp\\ipykernel_12836\\4248870467.py:1: SettingWithCopyWarning: \n",
      "A value is trying to be set on a copy of a slice from a DataFrame.\n",
      "Try using .loc[row_indexer,col_indexer] = value instead\n",
      "\n",
      "See the caveats in the documentation: https://pandas.pydata.org/pandas-docs/stable/user_guide/indexing.html#returning-a-view-versus-a-copy\n",
      "  chicago['Employee Annual Salary'] = chicago['Employee Annual Salary'].astype('int')\n"
     ]
    }
   ],
   "source": [
    "chicago['Employee Annual Salary'] = chicago['Employee Annual Salary'].astype('int')"
   ]
  },
  {
   "cell_type": "code",
   "execution_count": 61,
   "id": "c66527fd-8586-47d7-ba71-990716b4d6a8",
   "metadata": {},
   "outputs": [
    {
     "data": {
      "text/plain": [
       "0         90744\n",
       "1         84450\n",
       "2         84450\n",
       "3         89880\n",
       "4        106836\n",
       "          ...  \n",
       "32057     99528\n",
       "32058     87384\n",
       "32059     84450\n",
       "32060     87384\n",
       "32061    113664\n",
       "Name: Employee Annual Salary, Length: 32062, dtype: int32"
      ]
     },
     "execution_count": 61,
     "metadata": {},
     "output_type": "execute_result"
    }
   ],
   "source": [
    "chicago['Employee Annual Salary']"
   ]
  },
  {
   "cell_type": "code",
   "execution_count": 65,
   "id": "7570e3c7-3235-4034-9614-989901b0bec0",
   "metadata": {},
   "outputs": [
    {
     "data": {
      "text/plain": [
       "WILLIAMS     293\n",
       "JOHNSON      244\n",
       "SMITH        241\n",
       "BROWN        185\n",
       "JONES        183\n",
       "            ... \n",
       "HORN           1\n",
       "HORNE JR       1\n",
       "HORNER         1\n",
       "HORNIK         1\n",
       "ZYSKOWSKI      1\n",
       "Name: Name, Length: 13830, dtype: int64"
      ]
     },
     "execution_count": 65,
     "metadata": {},
     "output_type": "execute_result"
    }
   ],
   "source": [
    "chicago['Name'].str.split(',').str.get(0).value_counts()"
   ]
  },
  {
   "cell_type": "code",
   "execution_count": 75,
   "id": "8bde54b1-1d9d-417a-9147-934afaf0b5a8",
   "metadata": {},
   "outputs": [
    {
     "data": {
      "text/plain": [
       "MICHAEL     1153\n",
       "JOHN         899\n",
       "JAMES        676\n",
       "ROBERT       622\n",
       "JOSEPH       537\n",
       "            ... \n",
       "DEENA          1\n",
       "CHERRISE       1\n",
       "EARTHA         1\n",
       "ERNIKA         1\n",
       "MAC            1\n",
       "Name: Name, Length: 5091, dtype: int64"
      ]
     },
     "execution_count": 75,
     "metadata": {},
     "output_type": "execute_result"
    }
   ],
   "source": [
    "chicago['Name'].str.split(',').str.get(1).str.strip().str.split(' ').str.get(0).value_counts()"
   ]
  },
  {
   "cell_type": "code",
   "execution_count": 80,
   "id": "8aaf2b3f-0523-4039-aa99-9459ebcb6bc2",
   "metadata": {},
   "outputs": [
    {
     "name": "stderr",
     "output_type": "stream",
     "text": [
      "C:\\Users\\User\\AppData\\Local\\Temp\\ipykernel_12836\\3629102190.py:1: SettingWithCopyWarning: \n",
      "A value is trying to be set on a copy of a slice from a DataFrame.\n",
      "Try using .loc[row_indexer,col_indexer] = value instead\n",
      "\n",
      "See the caveats in the documentation: https://pandas.pydata.org/pandas-docs/stable/user_guide/indexing.html#returning-a-view-versus-a-copy\n",
      "  chicago[['First Name','Last Name']] = chicago['Name'].str.split(',', expand =True)\n",
      "C:\\Users\\User\\AppData\\Local\\Temp\\ipykernel_12836\\3629102190.py:1: SettingWithCopyWarning: \n",
      "A value is trying to be set on a copy of a slice from a DataFrame.\n",
      "Try using .loc[row_indexer,col_indexer] = value instead\n",
      "\n",
      "See the caveats in the documentation: https://pandas.pydata.org/pandas-docs/stable/user_guide/indexing.html#returning-a-view-versus-a-copy\n",
      "  chicago[['First Name','Last Name']] = chicago['Name'].str.split(',', expand =True)\n"
     ]
    }
   ],
   "source": [
    "chicago[['First Name','Last Name']] = chicago['Name'].str.split(',', expand =True)"
   ]
  },
  {
   "cell_type": "code",
   "execution_count": 83,
   "id": "b6fafa44-fbcd-464f-b21c-788432dccfda",
   "metadata": {},
   "outputs": [],
   "source": [
    "chicago= chicago.drop(columns='Name')"
   ]
  },
  {
   "cell_type": "code",
   "execution_count": 87,
   "id": "854df9a1-cb74-44fb-8cf3-701e4aa41a36",
   "metadata": {},
   "outputs": [],
   "source": [
    "chicago = chicago.reindex(columns=['First Name','Last Name','Position Title', 'Department','Employee Annual Salary'])\n"
   ]
  },
  {
   "cell_type": "code",
   "execution_count": 91,
   "id": "32af01a4-b754-4496-9385-174ce0cb1743",
   "metadata": {},
   "outputs": [
    {
     "data": {
      "text/html": [
       "<div>\n",
       "<style scoped>\n",
       "    .dataframe tbody tr th:only-of-type {\n",
       "        vertical-align: middle;\n",
       "    }\n",
       "\n",
       "    .dataframe tbody tr th {\n",
       "        vertical-align: top;\n",
       "    }\n",
       "\n",
       "    .dataframe thead th {\n",
       "        text-align: right;\n",
       "    }\n",
       "</style>\n",
       "<table border=\"1\" class=\"dataframe\">\n",
       "  <thead>\n",
       "    <tr style=\"text-align: right;\">\n",
       "      <th></th>\n",
       "      <th>Last Name</th>\n",
       "      <th>Position Title</th>\n",
       "      <th>Department</th>\n",
       "      <th>Employee Annual Salary</th>\n",
       "    </tr>\n",
       "    <tr>\n",
       "      <th>First Name</th>\n",
       "      <th></th>\n",
       "      <th></th>\n",
       "      <th></th>\n",
       "      <th></th>\n",
       "    </tr>\n",
       "  </thead>\n",
       "  <tbody>\n",
       "    <tr>\n",
       "      <th>AARON</th>\n",
       "      <td>ELVIA J</td>\n",
       "      <td>WATER RATE TAKER</td>\n",
       "      <td>WATER MGMNT</td>\n",
       "      <td>90744</td>\n",
       "    </tr>\n",
       "    <tr>\n",
       "      <th>AARON</th>\n",
       "      <td>JEFFERY M</td>\n",
       "      <td>POLICE OFFICER</td>\n",
       "      <td>POLICE</td>\n",
       "      <td>84450</td>\n",
       "    </tr>\n",
       "    <tr>\n",
       "      <th>AARON</th>\n",
       "      <td>KARINA</td>\n",
       "      <td>POLICE OFFICER</td>\n",
       "      <td>POLICE</td>\n",
       "      <td>84450</td>\n",
       "    </tr>\n",
       "    <tr>\n",
       "      <th>AARON</th>\n",
       "      <td>KIMBERLEI R</td>\n",
       "      <td>CHIEF CONTRACT EXPEDITER</td>\n",
       "      <td>GENERAL SERVICES</td>\n",
       "      <td>89880</td>\n",
       "    </tr>\n",
       "    <tr>\n",
       "      <th>ABAD JR</th>\n",
       "      <td>VICENTE M</td>\n",
       "      <td>CIVIL ENGINEER IV</td>\n",
       "      <td>WATER MGMNT</td>\n",
       "      <td>106836</td>\n",
       "    </tr>\n",
       "    <tr>\n",
       "      <th>...</th>\n",
       "      <td>...</td>\n",
       "      <td>...</td>\n",
       "      <td>...</td>\n",
       "      <td>...</td>\n",
       "    </tr>\n",
       "    <tr>\n",
       "      <th>ZYGADLO</th>\n",
       "      <td>MICHAEL J</td>\n",
       "      <td>FRM OF MACHINISTS - AUTOMOTIVE</td>\n",
       "      <td>GENERAL SERVICES</td>\n",
       "      <td>99528</td>\n",
       "    </tr>\n",
       "    <tr>\n",
       "      <th>ZYGOWICZ</th>\n",
       "      <td>PETER J</td>\n",
       "      <td>POLICE OFFICER</td>\n",
       "      <td>POLICE</td>\n",
       "      <td>87384</td>\n",
       "    </tr>\n",
       "    <tr>\n",
       "      <th>ZYMANTAS</th>\n",
       "      <td>MARK E</td>\n",
       "      <td>POLICE OFFICER</td>\n",
       "      <td>POLICE</td>\n",
       "      <td>84450</td>\n",
       "    </tr>\n",
       "    <tr>\n",
       "      <th>ZYRKOWSKI</th>\n",
       "      <td>CARLO E</td>\n",
       "      <td>POLICE OFFICER</td>\n",
       "      <td>POLICE</td>\n",
       "      <td>87384</td>\n",
       "    </tr>\n",
       "    <tr>\n",
       "      <th>ZYSKOWSKI</th>\n",
       "      <td>DARIUSZ</td>\n",
       "      <td>CHIEF DATA BASE ANALYST</td>\n",
       "      <td>DoIT</td>\n",
       "      <td>113664</td>\n",
       "    </tr>\n",
       "  </tbody>\n",
       "</table>\n",
       "<p>32062 rows × 4 columns</p>\n",
       "</div>"
      ],
      "text/plain": [
       "                Last Name                  Position Title        Department  \\\n",
       "First Name                                                                    \n",
       "AARON             ELVIA J                WATER RATE TAKER       WATER MGMNT   \n",
       "AARON           JEFFERY M                  POLICE OFFICER            POLICE   \n",
       "AARON              KARINA                  POLICE OFFICER            POLICE   \n",
       "AARON         KIMBERLEI R        CHIEF CONTRACT EXPEDITER  GENERAL SERVICES   \n",
       "ABAD JR         VICENTE M               CIVIL ENGINEER IV       WATER MGMNT   \n",
       "...                   ...                             ...               ...   \n",
       "ZYGADLO         MICHAEL J  FRM OF MACHINISTS - AUTOMOTIVE  GENERAL SERVICES   \n",
       "ZYGOWICZ          PETER J                  POLICE OFFICER            POLICE   \n",
       "ZYMANTAS           MARK E                  POLICE OFFICER            POLICE   \n",
       "ZYRKOWSKI         CARLO E                  POLICE OFFICER            POLICE   \n",
       "ZYSKOWSKI         DARIUSZ         CHIEF DATA BASE ANALYST              DoIT   \n",
       "\n",
       "            Employee Annual Salary  \n",
       "First Name                          \n",
       "AARON                        90744  \n",
       "AARON                        84450  \n",
       "AARON                        84450  \n",
       "AARON                        89880  \n",
       "ABAD JR                     106836  \n",
       "...                            ...  \n",
       "ZYGADLO                      99528  \n",
       "ZYGOWICZ                     87384  \n",
       "ZYMANTAS                     84450  \n",
       "ZYRKOWSKI                    87384  \n",
       "ZYSKOWSKI                   113664  \n",
       "\n",
       "[32062 rows x 4 columns]"
      ]
     },
     "execution_count": 91,
     "metadata": {},
     "output_type": "execute_result"
    }
   ],
   "source": [
    "chicago.set_index('First Name')"
   ]
  },
  {
   "cell_type": "code",
   "execution_count": null,
   "id": "1d454b85-4208-4169-8b8e-c28b9cbfbcfe",
   "metadata": {},
   "outputs": [],
   "source": []
  }
 ],
 "metadata": {
  "kernelspec": {
   "display_name": "Python 3 (ipykernel)",
   "language": "python",
   "name": "python3"
  },
  "language_info": {
   "codemirror_mode": {
    "name": "ipython",
    "version": 3
   },
   "file_extension": ".py",
   "mimetype": "text/x-python",
   "name": "python",
   "nbconvert_exporter": "python",
   "pygments_lexer": "ipython3",
   "version": "3.10.8"
  }
 },
 "nbformat": 4,
 "nbformat_minor": 5
}
